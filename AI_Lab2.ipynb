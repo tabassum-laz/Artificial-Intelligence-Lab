{
  "cells": [
    {
      "cell_type": "markdown",
      "metadata": {
        "id": "view-in-github",
        "colab_type": "text"
      },
      "source": [
        "<a href=\"https://colab.research.google.com/github/tabassum-laz/Artificial-Intelligence-Lab/blob/main/AI_Lab2.ipynb\" target=\"_parent\"><img src=\"https://colab.research.google.com/assets/colab-badge.svg\" alt=\"Open In Colab\"/></a>"
      ]
    },
    {
      "cell_type": "code",
      "execution_count": null,
      "metadata": {
        "colab": {
          "base_uri": "https://localhost:8080/"
        },
        "id": "wV_5bx8rNCw6",
        "outputId": "228a428f-195f-420b-8955-ce8e208f80ca"
      },
      "outputs": [
        {
          "name": "stdout",
          "output_type": "stream",
          "text": [
            "[1 2 3 4 5 6]\n"
          ]
        }
      ],
      "source": [
        "#Joining NumPy Arrays\n",
        "import numpy as np\n",
        "\n",
        "a1 = np.array([1, 2, 3])\n",
        "\n",
        "a2 = np.array([4, 5, 6])\n",
        "\n",
        "a = np.concatenate((a1, a2))\n",
        "\n",
        "print(a)"
      ]
    },
    {
      "cell_type": "code",
      "execution_count": null,
      "metadata": {
        "colab": {
          "base_uri": "https://localhost:8080/"
        },
        "id": "9bAoJf2zNRC6",
        "outputId": "641b6631-f9f4-40ae-e4f6-19ac3376ca4e"
      },
      "outputs": [
        {
          "name": "stdout",
          "output_type": "stream",
          "text": [
            "[[1 4]\n",
            " [2 5]\n",
            " [3 6]]\n"
          ]
        }
      ],
      "source": [
        "#Joining Arrays Using Stack Functions\n",
        "a = np.array([1, 2, 3])\n",
        "\n",
        "a1 = np.array([4, 5, 6])\n",
        "\n",
        "arr = np.stack((a, a1), axis=1)\n",
        "\n",
        "print(arr)\n"
      ]
    },
    {
      "cell_type": "code",
      "execution_count": null,
      "metadata": {
        "colab": {
          "base_uri": "https://localhost:8080/"
        },
        "id": "UWWbWkOEAdfo",
        "outputId": "02f988f2-9630-44db-aab8-6bba35ad4387"
      },
      "outputs": [
        {
          "name": "stdout",
          "output_type": "stream",
          "text": [
            "[array([1, 2]), array([3]), array([4]), array([5]), array([6])]\n"
          ]
        }
      ],
      "source": [
        "#Splitting NumPy Arrays\n",
        "a = np.array([1,2,3,4,5,6])\n",
        "a1 = np.array_split(a,5)\n",
        "print(a1)"
      ]
    },
    {
      "cell_type": "code",
      "execution_count": null,
      "metadata": {
        "colab": {
          "base_uri": "https://localhost:8080/"
        },
        "id": "H9Z3P5_pBObf",
        "outputId": "3b38e1a2-5f3d-4e60-f6dc-fd69e46cb370"
      },
      "outputs": [
        {
          "name": "stdout",
          "output_type": "stream",
          "text": [
            "[array([[1, 2],\n",
            "       [3, 4]]), array([[5, 6],\n",
            "       [7, 8]]), array([[ 9, 10]]), array([[11, 12]])]\n"
          ]
        }
      ],
      "source": [
        "a = np.array([[1,2],[3,4],[5,6],[7,8],[9,10],[11,12]])\n",
        "a1 = np.array_split(a,4)\n",
        "print(a1)"
      ]
    },
    {
      "cell_type": "code",
      "execution_count": null,
      "metadata": {
        "colab": {
          "base_uri": "https://localhost:8080/"
        },
        "id": "d_zd6WKxB1F_",
        "outputId": "c1877da4-d120-4883-cc2f-3c4dbeb81592"
      },
      "outputs": [
        {
          "name": "stdout",
          "output_type": "stream",
          "text": [
            "[array([[ 1],\n",
            "       [ 3],\n",
            "       [ 5],\n",
            "       [ 7],\n",
            "       [ 9],\n",
            "       [11]]), array([[ 2],\n",
            "       [ 4],\n",
            "       [ 6],\n",
            "       [ 8],\n",
            "       [10],\n",
            "       [12]]), array([], shape=(6, 0), dtype=int64), array([], shape=(6, 0), dtype=int64)]\n"
          ]
        }
      ],
      "source": [
        "a2=np.array_split(a, 4, axis=1)\n",
        "print(a2)"
      ]
    },
    {
      "cell_type": "code",
      "execution_count": null,
      "metadata": {
        "colab": {
          "background_save": true,
          "base_uri": "https://localhost:8080/"
        },
        "id": "_5rAwSXuCUN2",
        "outputId": "5c133386-df4d-4419-9969-a1d428c85f22"
      },
      "outputs": [
        {
          "name": "stdout",
          "output_type": "stream",
          "text": [
            "[array([[1, 2, 3],\n",
            "       [4, 5, 6]]), array([[ 7,  8,  9],\n",
            "       [10, 11, 12]]), array([[13, 14, 15],\n",
            "       [16, 17, 18]])]\n"
          ]
        }
      ],
      "source": [
        "a = np.array([[1, 2, 3], [4, 5, 6], [7, 8, 9], [10, 11, 12], [13, 14, 15], [16, 17, 18]])\n",
        "a1 = np.vsplit(a, 3)\n",
        "print(a1)"
      ]
    },
    {
      "cell_type": "code",
      "execution_count": null,
      "metadata": {
        "colab": {
          "base_uri": "https://localhost:8080/"
        },
        "id": "dMGeI9VPCfK2",
        "outputId": "d0fa1b67-9843-4f76-86c6-50a4c0e96f99"
      },
      "outputs": [
        {
          "name": "stdout",
          "output_type": "stream",
          "text": [
            "(array([3, 5, 6]),)\n"
          ]
        }
      ],
      "source": [
        "a = np.array([1,2,3,4,5,4,4])\n",
        "n = np.where(a == 4)\n",
        "print(n)"
      ]
    },
    {
      "cell_type": "code",
      "execution_count": null,
      "metadata": {
        "colab": {
          "base_uri": "https://localhost:8080/"
        },
        "id": "Qk37bW4FCY62",
        "outputId": "743b4ff9-d332-4955-d444-79349e456ffa"
      },
      "outputs": [
        {
          "name": "stdout",
          "output_type": "stream",
          "text": [
            "(array([1, 3, 5, 6]),)\n"
          ]
        }
      ],
      "source": [
        "m = np.where(a%2 == 0)\n",
        "print(m)"
      ]
    },
    {
      "cell_type": "code",
      "execution_count": null,
      "metadata": {
        "colab": {
          "base_uri": "https://localhost:8080/"
        },
        "id": "mmTfQOQlETKn",
        "outputId": "0d23b2ee-4e4d-4468-f08d-de9d83c9b013"
      },
      "outputs": [
        {
          "name": "stdout",
          "output_type": "stream",
          "text": [
            "7\n"
          ]
        }
      ],
      "source": [
        "x = np.searchsorted(a, 4, side='right')\n",
        "print(x)"
      ]
    },
    {
      "cell_type": "code",
      "execution_count": null,
      "metadata": {
        "colab": {
          "base_uri": "https://localhost:8080/"
        },
        "id": "1fTIucmEEmsP",
        "outputId": "de74e574-174b-4d7f-85e4-eff308e49855"
      },
      "outputs": [
        {
          "name": "stdout",
          "output_type": "stream",
          "text": [
            "[1 2 3]\n"
          ]
        }
      ],
      "source": [
        "a =  np.array([1,3,5,7])\n",
        "x = np.searchsorted(a,[2,4,6])\n",
        "print(x)"
      ]
    },
    {
      "cell_type": "code",
      "execution_count": null,
      "metadata": {
        "colab": {
          "base_uri": "https://localhost:8080/"
        },
        "id": "zOviGijxGfNw",
        "outputId": "b6cc5892-4a30-49fb-d9c6-e96a7f3ecdad"
      },
      "outputs": [
        {
          "name": "stdout",
          "output_type": "stream",
          "text": [
            "['ipshi' 'laz' 'tabassum']\n"
          ]
        }
      ],
      "source": [
        "a = np.array(['laz', 'ipshi', 'tabassum'])\n",
        "print(np.sort(a))"
      ]
    },
    {
      "cell_type": "code",
      "execution_count": null,
      "metadata": {
        "colab": {
          "base_uri": "https://localhost:8080/"
        },
        "id": "ur4tI9h0G7SO",
        "outputId": "39370c54-ac70-469d-8c64-3b947c600406"
      },
      "outputs": [
        {
          "name": "stdout",
          "output_type": "stream",
          "text": [
            "[[1 2 3]\n",
            " [6 7 8]]\n"
          ]
        }
      ],
      "source": [
        "a = np.array([[1,2,3],[6,7,8]])\n",
        "print(np.sort(a))"
      ]
    },
    {
      "cell_type": "code",
      "execution_count": null,
      "metadata": {
        "colab": {
          "base_uri": "https://localhost:8080/"
        },
        "id": "4PqI3zglHoCu",
        "outputId": "907fbf75-c8cc-4b2b-f3f6-3de6b97ec9e8"
      },
      "outputs": [
        {
          "name": "stdout",
          "output_type": "stream",
          "text": [
            "[[[ 1  2]\n",
            "  [ 3  4]\n",
            "  [ 5  6]]\n",
            "\n",
            " [[ 7  8]\n",
            "  [ 9 10]\n",
            "  [11 12]]]\n"
          ]
        }
      ],
      "source": [
        "a = np.array([1,2,3,4,5,6,7,8,9,10,11,12])\n",
        "a1 = a.reshape(2,3,2)\n",
        "print(a1)"
      ]
    },
    {
      "cell_type": "code",
      "execution_count": null,
      "metadata": {
        "colab": {
          "base_uri": "https://localhost:8080/"
        },
        "id": "FfMzRZ5vISF5",
        "outputId": "c6c240f0-fa60-4487-a4eb-04231afee167"
      },
      "outputs": [
        {
          "name": "stdout",
          "output_type": "stream",
          "text": [
            "[[[1]\n",
            "  [2]\n",
            "  [3]\n",
            "  [4]]\n",
            "\n",
            " [[5]\n",
            "  [6]\n",
            "  [7]\n",
            "  [8]]]\n"
          ]
        }
      ],
      "source": [
        "a = np.array([1,2,3,4,5,6,7,8])\n",
        "a1 = a.reshape(2, 4, 1)\n",
        "print(a1)"
      ]
    },
    {
      "cell_type": "code",
      "execution_count": null,
      "metadata": {
        "colab": {
          "base_uri": "https://localhost:8080/"
        },
        "id": "DJJasvVPMDDW",
        "outputId": "4e43d1ba-bb32-4459-9511-f5e0ffe46c92"
      },
      "outputs": [
        {
          "name": "stdout",
          "output_type": "stream",
          "text": [
            "1\n",
            "2\n",
            "3\n",
            "4\n",
            "5\n",
            "6\n"
          ]
        }
      ],
      "source": [
        "a = np.array([[1, 2, 3], [4, 5, 6]])\n",
        "for x in a:\n",
        "  for y in x:\n",
        "    print(y)"
      ]
    },
    {
      "cell_type": "code",
      "execution_count": null,
      "metadata": {
        "colab": {
          "base_uri": "https://localhost:8080/"
        },
        "id": "h9nHcrccLXcu",
        "outputId": "edd5cce9-2d30-4f69-b936-17d0a87ea425"
      },
      "outputs": [
        {
          "name": "stdout",
          "output_type": "stream",
          "text": [
            "[[1 2 3]\n",
            " [4 5 6]]\n",
            "[[ 7  8  9]\n",
            " [10 11 12]]\n"
          ]
        }
      ],
      "source": [
        "#Iterating 3-D Arrays\n",
        "a = np.array([[[1, 2, 3], [4, 5, 6]], [[7, 8, 9], [10, 11, 12]]])\n",
        "\n",
        "for x in a:\n",
        "  print(x)"
      ]
    },
    {
      "cell_type": "code",
      "execution_count": null,
      "metadata": {
        "colab": {
          "base_uri": "https://localhost:8080/"
        },
        "id": "q8cjDOPfMUIu",
        "outputId": "22476664-fb60-41ec-9172-9ff9aca2a9b4"
      },
      "outputs": [
        {
          "name": "stdout",
          "output_type": "stream",
          "text": [
            "1\n",
            "2\n",
            "3\n",
            "4\n",
            "5\n",
            "6\n",
            "7\n",
            "8\n"
          ]
        }
      ],
      "source": [
        "#Iterating on Each Scalar Element\n",
        "a = np.array([[[1, 2], [3, 4]], [[5, 6], [7, 8]]])\n",
        "\n",
        "for x in np.nditer(a):\n",
        "  print(x)"
      ]
    }
  ],
  "metadata": {
    "colab": {
      "provenance": [],
      "authorship_tag": "ABX9TyO4yXMHd0wc39bDohHkrJpm",
      "include_colab_link": true
    },
    "kernelspec": {
      "display_name": "Python 3",
      "name": "python3"
    },
    "language_info": {
      "name": "python"
    }
  },
  "nbformat": 4,
  "nbformat_minor": 0
}