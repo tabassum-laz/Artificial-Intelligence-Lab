{
  "cells": [
    {
      "cell_type": "markdown",
      "metadata": {
        "id": "view-in-github",
        "colab_type": "text"
      },
      "source": [
        "<a href=\"https://colab.research.google.com/github/tabassum-laz/Artificial-Intelligence-Lab/blob/main/AI_lab1.ipynb\" target=\"_parent\"><img src=\"https://colab.research.google.com/assets/colab-badge.svg\" alt=\"Open In Colab\"/></a>"
      ]
    },
    {
      "cell_type": "code",
      "source": [
        "#create a list\n",
        "lst=[1,2,3,'Laz','Tabassum']\n",
        "lst1=[]\n",
        "lst2=list()\n",
        "lst2=[lst]\n",
        "lst1.append(12)\n",
        "lst1.append(1)\n",
        "lst1.append(15)\n",
        "print(lst)\n",
        "print(lst1)\n",
        "print(lst2)\n",
        "lst2.append(lst1)\n",
        "print(lst2)"
      ],
      "metadata": {
        "colab": {
          "base_uri": "https://localhost:8080/"
        },
        "id": "2YDnIK71VkTD",
        "outputId": "eda55f85-8721-466f-fdcc-263426d06197"
      },
      "execution_count": null,
      "outputs": [
        {
          "output_type": "stream",
          "name": "stdout",
          "text": [
            "[1, 2, 3, 'Laz', 'Tabassum']\n",
            "[12, 1, 15]\n",
            "[[1, 2, 3, 'Laz', 'Tabassum']]\n",
            "[[1, 2, 3, 'Laz', 'Tabassum'], [12, 1, 15]]\n"
          ]
        }
      ]
    },
    {
      "cell_type": "code",
      "source": [
        "#list operation\n",
        "lst=[1,4,2,8,9,3]\n",
        "lst1=[1,4,2,8,9,3]\n",
        "print(\"Initial lst:\",lst)\n",
        "#append\n",
        "lst.append(18)\n",
        "print(\"After append lst: \",lst)\n",
        "#insert\n",
        "#lst.insert(index,data)\n",
        "lst.insert(3,20)\n",
        "lst.insert(3,15)\n",
        "print(\"After insert lst: \",lst)\n",
        "\n",
        "#sort\n",
        "lst.sort(reverse=True)\n",
        "print(\"After sorted: lst\",lst)\n",
        "#sorted\n",
        "lst2=sorted(lst1)\n",
        "print(\"Lst1: \",lst1)\n",
        "print(\"lst2 after sorted: \",lst2)"
      ],
      "metadata": {
        "id": "_p2v0jSZVt17"
      },
      "execution_count": null,
      "outputs": []
    },
    {
      "cell_type": "code",
      "source": [
        "#reverse\n",
        "lst=[2,5,2,9,1]\n",
        "lst.reverse()\n",
        "print(lst)\n",
        "print(lst[3])\n",
        "#update\n",
        "lst[2]='Naeem'\n",
        "print(lst)\n",
        "#delete\n",
        "lst.pop()\n",
        "print(lst)\n",
        "lst.remove('Naeem')\n",
        "print(lst)\n",
        "print(lst.pop())"
      ],
      "metadata": {
        "id": "x0hhulXlVw-K"
      },
      "execution_count": null,
      "outputs": []
    },
    {
      "cell_type": "code",
      "source": [
        "lst=[1,9,13,7,9,2, 5, 2]\n",
        "p=lst.index(9)\n",
        "print(p)\n",
        "p=lst.index(9,2,8)\n",
        "print(p)"
      ],
      "metadata": {
        "id": "J3UgZ316Vzdq"
      },
      "execution_count": null,
      "outputs": []
    },
    {
      "cell_type": "code",
      "source": [
        "lst=[1,9,13,7,9,2, 5, 2]\n",
        "lst2=lst[:]\n",
        "print(lst2)\n",
        "lst2=lst[3:]\n",
        "print(lst2)\n",
        "lst2=lst[2:6]\n",
        "print(lst2)\n",
        "lst2=lst[:4]\n",
        "print(lst2)"
      ],
      "metadata": {
        "id": "ovrBv_WGV1fy"
      },
      "execution_count": null,
      "outputs": []
    },
    {
      "cell_type": "code",
      "execution_count": null,
      "metadata": {
        "colab": {
          "base_uri": "https://localhost:8080/"
        },
        "id": "EQY1Yj9eFvcz",
        "outputId": "578102fd-cc84-463f-a9b7-fb5116382de3"
      },
      "outputs": [
        {
          "name": "stdout",
          "output_type": "stream",
          "text": [
            "[4, 5, 7, 9, 12, 35]\n",
            "35\n",
            "34\n"
          ]
        }
      ],
      "source": [
        "l=[4,5,7,9,12,35]\n",
        "print(l)\n",
        "print(l[5])\n",
        "l[4]=34\n",
        "print(l[4])\n"
      ]
    },
    {
      "cell_type": "code",
      "source": [
        "#create list by user input\n",
        "n=int(input(\"Enter the number of element: \"))\n",
        "lst=[]\n",
        "for i in range(0,n):\n",
        "  data=input(\"Enter the data: \")\n",
        "  lst.append(data)\n",
        "print(lst)\n",
        "m=input(\"Enter the searching value: \")\n",
        "t=m in lst\n",
        "print(t)\n",
        "t=lst.index(m)\n",
        "print(t)\n",
        "c=lst.count(m)\n",
        "print(c)"
      ],
      "metadata": {
        "id": "wn-CtZzzV-1x"
      },
      "execution_count": null,
      "outputs": []
    },
    {
      "cell_type": "code",
      "source": [
        "n=int(input(\"Enter the number of element: \"))\n",
        "lst=[]\n",
        "\n",
        "for i in range(0,n):\n",
        "  data=int(input(\"Enter the data: \"))\n",
        "  lst.append(data)\n",
        "if n<2:\n",
        "  print(\"Not possible\")\n",
        "else:\n",
        "  lst2=lst[1:n-1]\n",
        "  print(lst2)"
      ],
      "metadata": {
        "colab": {
          "base_uri": "https://localhost:8080/"
        },
        "id": "vWfcGxIB3Qkp",
        "outputId": "8b79b6e7-11b8-48de-f2e8-f0337652c1be"
      },
      "execution_count": 28,
      "outputs": [
        {
          "output_type": "stream",
          "name": "stdout",
          "text": [
            "Enter the number of element: 5\n",
            "Enter the data: 1\n",
            "Enter the data: 2\n",
            "Enter the data: 3\n",
            "Enter the data: 4\n",
            "Enter the data: 5\n",
            "[2, 3, 4]\n"
          ]
        }
      ]
    },
    {
      "cell_type": "code",
      "source": [
        "f=open('laz.txt','r')\n",
        "print(f.readline())"
      ],
      "metadata": {
        "colab": {
          "base_uri": "https://localhost:8080/"
        },
        "id": "h8dokzkgneS-",
        "outputId": "560e84a1-012e-4eba-cc57-ffddd7975982"
      },
      "execution_count": 31,
      "outputs": [
        {
          "output_type": "stream",
          "name": "stdout",
          "text": [
            "Hello..\n",
            "\n"
          ]
        }
      ]
    },
    {
      "cell_type": "code",
      "source": [
        "print(f.readline())\n",
        "f.close()"
      ],
      "metadata": {
        "colab": {
          "base_uri": "https://localhost:8080/"
        },
        "id": "7MjoxK1dnjUQ",
        "outputId": "f193a8b0-4f5d-495c-9d01-3159e66d46df"
      },
      "execution_count": 32,
      "outputs": [
        {
          "output_type": "stream",
          "name": "stdout",
          "text": [
            "I am Laz..\n"
          ]
        }
      ]
    },
    {
      "cell_type": "code",
      "source": [
        "f=open('laz.txt','r')\n",
        "print(f.read())\n",
        "f.close()"
      ],
      "metadata": {
        "colab": {
          "base_uri": "https://localhost:8080/"
        },
        "id": "PKqwCO-znmNt",
        "outputId": "10dcbc48-e505-44d4-e0eb-798f9f94f2b0"
      },
      "execution_count": 33,
      "outputs": [
        {
          "output_type": "stream",
          "name": "stdout",
          "text": [
            "Hello..\n",
            "I am Laz..\n"
          ]
        }
      ]
    },
    {
      "cell_type": "code",
      "source": [
        "f = open(\"laz.txt\", \"a\")\n",
        "f.write(\"I am 22 years old.\")\n",
        "f.close()\n",
        "\n",
        "f = open(\"laz.txt\", \"r\")\n",
        "print(f.read())\n",
        "f.close()"
      ],
      "metadata": {
        "colab": {
          "base_uri": "https://localhost:8080/"
        },
        "id": "b1SoCAvmno-9",
        "outputId": "86f3cd44-f257-4d6a-fd81-2729e295464d"
      },
      "execution_count": 34,
      "outputs": [
        {
          "output_type": "stream",
          "name": "stdout",
          "text": [
            "Hello..\n",
            "I am Laz..I am 22 years old.\n"
          ]
        }
      ]
    },
    {
      "cell_type": "code",
      "source": [
        "f = open(\"laz.txt\", \"w\")\n",
        "f.write(\"I am 22 years old.\")\n",
        "f.close()\n",
        "\n",
        "f = open(\"laz.txt\", \"r\")\n",
        "print(f.read())\n",
        "f.close()"
      ],
      "metadata": {
        "colab": {
          "base_uri": "https://localhost:8080/"
        },
        "id": "kn5AGPxWnsGy",
        "outputId": "239d7635-77b3-4525-a62d-5d33cef3e768"
      },
      "execution_count": 35,
      "outputs": [
        {
          "output_type": "stream",
          "name": "stdout",
          "text": [
            "I am 22 years old.\n"
          ]
        }
      ]
    }
  ],
  "metadata": {
    "accelerator": "GPU",
    "colab": {
      "provenance": [],
      "authorship_tag": "ABX9TyMWWIWEYQdjwRFvBdJc8Ieo",
      "include_colab_link": true
    },
    "kernelspec": {
      "display_name": "Python 3",
      "name": "python3"
    },
    "language_info": {
      "name": "python"
    }
  },
  "nbformat": 4,
  "nbformat_minor": 0
}