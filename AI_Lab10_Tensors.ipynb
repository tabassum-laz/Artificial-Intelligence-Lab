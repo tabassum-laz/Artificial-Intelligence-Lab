{
  "cells": [
    {
      "cell_type": "markdown",
      "metadata": {
        "id": "view-in-github",
        "colab_type": "text"
      },
      "source": [
        "<a href=\"https://colab.research.google.com/github/tabassum-laz/Artificial-Intelligence-Lab/blob/main/AI_Lab10_Tensors.ipynb\" target=\"_parent\"><img src=\"https://colab.research.google.com/assets/colab-badge.svg\" alt=\"Open In Colab\"/></a>"
      ]
    },
    {
      "cell_type": "code",
      "execution_count": 1,
      "id": "f6d5aaa0",
      "metadata": {
        "id": "f6d5aaa0"
      },
      "outputs": [],
      "source": [
        "import torch\n",
        "import numpy as np"
      ]
    },
    {
      "cell_type": "code",
      "execution_count": 2,
      "id": "54eb9df4",
      "metadata": {
        "id": "54eb9df4",
        "outputId": "aa9347ed-7138-41cc-95ef-c9b50980326f",
        "colab": {
          "base_uri": "https://localhost:8080/"
        }
      },
      "outputs": [
        {
          "output_type": "execute_result",
          "data": {
            "text/plain": [
              "tensor([[1, 2],\n",
              "        [3, 4]])"
            ]
          },
          "metadata": {},
          "execution_count": 2
        }
      ],
      "source": [
        "data=[[1,2],[3,4]]\n",
        "x_data= torch.tensor(data)\n",
        "x_data"
      ]
    },
    {
      "cell_type": "code",
      "execution_count": 3,
      "id": "d747914c",
      "metadata": {
        "id": "d747914c",
        "outputId": "f521597c-dc73-4af1-f2c2-40213058e766",
        "colab": {
          "base_uri": "https://localhost:8080/"
        }
      },
      "outputs": [
        {
          "output_type": "execute_result",
          "data": {
            "text/plain": [
              "array([[1, 2],\n",
              "       [3, 4]])"
            ]
          },
          "metadata": {},
          "execution_count": 3
        }
      ],
      "source": [
        "arr=np.array(data)\n",
        "arr"
      ]
    },
    {
      "cell_type": "code",
      "execution_count": 4,
      "id": "c535d922",
      "metadata": {
        "id": "c535d922",
        "outputId": "115acc3f-5cb6-442a-ad05-5e37d6a5b21a",
        "colab": {
          "base_uri": "https://localhost:8080/"
        }
      },
      "outputs": [
        {
          "output_type": "execute_result",
          "data": {
            "text/plain": [
              "tensor([[1, 2],\n",
              "        [3, 4]])"
            ]
          },
          "metadata": {},
          "execution_count": 4
        }
      ],
      "source": [
        "x=torch.from_numpy(arr)\n",
        "x"
      ]
    },
    {
      "cell_type": "code",
      "execution_count": 5,
      "id": "8b0cf6f3",
      "metadata": {
        "id": "8b0cf6f3",
        "outputId": "dae1b52b-28fb-4438-f1d5-59f2f2f3ea08",
        "colab": {
          "base_uri": "https://localhost:8080/"
        }
      },
      "outputs": [
        {
          "output_type": "execute_result",
          "data": {
            "text/plain": [
              "tensor([[1, 1],\n",
              "        [1, 1]])"
            ]
          },
          "metadata": {},
          "execution_count": 5
        }
      ],
      "source": [
        "x_ones= torch.ones_like(x)\n",
        "x_ones"
      ]
    },
    {
      "cell_type": "code",
      "execution_count": 6,
      "id": "7c49c27c",
      "metadata": {
        "id": "7c49c27c",
        "outputId": "b4bc480b-9046-4b09-d6bb-1acfd7c524df",
        "colab": {
          "base_uri": "https://localhost:8080/"
        }
      },
      "outputs": [
        {
          "output_type": "execute_result",
          "data": {
            "text/plain": [
              "tensor([[0, 0],\n",
              "        [0, 0]])"
            ]
          },
          "metadata": {},
          "execution_count": 6
        }
      ],
      "source": [
        "x_zeros= torch.zeros_like(x)\n",
        "x_zeros"
      ]
    },
    {
      "cell_type": "code",
      "execution_count": 7,
      "id": "8ac2e096",
      "metadata": {
        "id": "8ac2e096",
        "outputId": "d1b758e2-ff6c-4dbd-f145-fd7778e25f51",
        "colab": {
          "base_uri": "https://localhost:8080/"
        }
      },
      "outputs": [
        {
          "output_type": "execute_result",
          "data": {
            "text/plain": [
              "tensor([[0.4920, 0.7418],\n",
              "        [0.8111, 0.4421]])"
            ]
          },
          "metadata": {},
          "execution_count": 7
        }
      ],
      "source": [
        "x_rand= torch.rand_like(x, dtype=torch.float)\n",
        "x_rand"
      ]
    },
    {
      "cell_type": "code",
      "execution_count": 8,
      "id": "a942fd8d",
      "metadata": {
        "id": "a942fd8d",
        "outputId": "288a6730-a493-4393-b20b-c19c400dc5d1",
        "colab": {
          "base_uri": "https://localhost:8080/"
        }
      },
      "outputs": [
        {
          "output_type": "execute_result",
          "data": {
            "text/plain": [
              "tensor([[0.9796, 0.9866, 0.9205],\n",
              "        [0.0883, 0.5883, 0.5834]])"
            ]
          },
          "metadata": {},
          "execution_count": 8
        }
      ],
      "source": [
        "rand_tensor= torch.rand(2,3)\n",
        "rand_tensor"
      ]
    },
    {
      "cell_type": "code",
      "execution_count": 9,
      "id": "1255f929",
      "metadata": {
        "id": "1255f929",
        "outputId": "2f5f1043-5796-4374-957e-641aca7b93ff",
        "colab": {
          "base_uri": "https://localhost:8080/"
        }
      },
      "outputs": [
        {
          "output_type": "execute_result",
          "data": {
            "text/plain": [
              "tensor([[1., 1., 1.],\n",
              "        [1., 1., 1.]])"
            ]
          },
          "metadata": {},
          "execution_count": 9
        }
      ],
      "source": [
        "ones_tensor= torch.ones(2,3, dtype=torch.float32)\n",
        "ones_tensor"
      ]
    },
    {
      "cell_type": "code",
      "execution_count": 10,
      "id": "6c82df3c",
      "metadata": {
        "id": "6c82df3c",
        "outputId": "6d92aa52-e458-478f-82f2-09a956f6f394",
        "colab": {
          "base_uri": "https://localhost:8080/"
        }
      },
      "outputs": [
        {
          "output_type": "execute_result",
          "data": {
            "text/plain": [
              "tensor([[0., 0., 0.],\n",
              "        [0., 0., 0.]])"
            ]
          },
          "metadata": {},
          "execution_count": 10
        }
      ],
      "source": [
        "zeros_tensor= torch.zeros(2,3)\n",
        "zeros_tensor"
      ]
    },
    {
      "cell_type": "code",
      "execution_count": 11,
      "id": "06e097d4",
      "metadata": {
        "id": "06e097d4",
        "outputId": "157778d1-393f-49db-eb36-87169569abcb",
        "colab": {
          "base_uri": "https://localhost:8080/"
        }
      },
      "outputs": [
        {
          "output_type": "execute_result",
          "data": {
            "text/plain": [
              "torch.Size([2, 3])"
            ]
          },
          "metadata": {},
          "execution_count": 11
        }
      ],
      "source": [
        "rand_tensor.shape"
      ]
    },
    {
      "cell_type": "code",
      "execution_count": 12,
      "id": "de6eada5",
      "metadata": {
        "id": "de6eada5",
        "outputId": "9927eced-ce49-4f12-9749-7e3efc1e3514",
        "colab": {
          "base_uri": "https://localhost:8080/"
        }
      },
      "outputs": [
        {
          "output_type": "execute_result",
          "data": {
            "text/plain": [
              "torch.float32"
            ]
          },
          "metadata": {},
          "execution_count": 12
        }
      ],
      "source": [
        "rand_tensor.dtype"
      ]
    },
    {
      "cell_type": "code",
      "execution_count": 13,
      "id": "1d923a62",
      "metadata": {
        "id": "1d923a62",
        "outputId": "16f80726-b2b2-4c04-f445-9c1132a4d1cf",
        "colab": {
          "base_uri": "https://localhost:8080/"
        }
      },
      "outputs": [
        {
          "output_type": "execute_result",
          "data": {
            "text/plain": [
              "device(type='cpu')"
            ]
          },
          "metadata": {},
          "execution_count": 13
        }
      ],
      "source": [
        "rand_tensor.device"
      ]
    },
    {
      "cell_type": "code",
      "execution_count": 14,
      "id": "baf06bea",
      "metadata": {
        "id": "baf06bea"
      },
      "outputs": [],
      "source": [
        "if torch.cuda.is_available():\n",
        "    rand_tensor = rand_tensor.to('cuda')"
      ]
    },
    {
      "cell_type": "code",
      "execution_count": 15,
      "id": "addc0f46",
      "metadata": {
        "id": "addc0f46",
        "outputId": "2b0884d0-762b-40b1-b98f-87008378e385",
        "colab": {
          "base_uri": "https://localhost:8080/"
        }
      },
      "outputs": [
        {
          "output_type": "execute_result",
          "data": {
            "text/plain": [
              "tensor([[0.9796, 0.9866, 0.9205],\n",
              "        [0.0883, 0.5883, 0.5834]])"
            ]
          },
          "metadata": {},
          "execution_count": 15
        }
      ],
      "source": [
        " rand_tensor"
      ]
    },
    {
      "cell_type": "code",
      "execution_count": 16,
      "id": "789e2b78",
      "metadata": {
        "id": "789e2b78",
        "outputId": "57cc79ca-3a5c-4144-b32d-7bfb9d9be236",
        "colab": {
          "base_uri": "https://localhost:8080/"
        }
      },
      "outputs": [
        {
          "output_type": "execute_result",
          "data": {
            "text/plain": [
              "tensor([[0.9796, 1.0000, 0.9205],\n",
              "        [0.0883, 1.0000, 0.5834]])"
            ]
          },
          "metadata": {},
          "execution_count": 16
        }
      ],
      "source": [
        "rand_tensor[:,1]=1\n",
        "rand_tensor"
      ]
    },
    {
      "cell_type": "code",
      "execution_count": 17,
      "id": "b1ba89e1",
      "metadata": {
        "id": "b1ba89e1",
        "outputId": "0e029c6d-28b9-4f96-aa4e-1cafc65a1c82",
        "colab": {
          "base_uri": "https://localhost:8080/"
        }
      },
      "outputs": [
        {
          "output_type": "execute_result",
          "data": {
            "text/plain": [
              "tensor([0.9796, 1.0000, 0.9205])"
            ]
          },
          "metadata": {},
          "execution_count": 17
        }
      ],
      "source": [
        "rand_tensor[0]"
      ]
    },
    {
      "cell_type": "code",
      "execution_count": 18,
      "id": "d147b3b2",
      "metadata": {
        "id": "d147b3b2",
        "outputId": "9c6a9195-aff4-4820-b605-5b257bfe4f0d",
        "colab": {
          "base_uri": "https://localhost:8080/"
        }
      },
      "outputs": [
        {
          "output_type": "execute_result",
          "data": {
            "text/plain": [
              "tensor([0.9796, 0.0883])"
            ]
          },
          "metadata": {},
          "execution_count": 18
        }
      ],
      "source": [
        "rand_tensor[:,0]"
      ]
    },
    {
      "cell_type": "code",
      "execution_count": 19,
      "id": "b3cb4dad",
      "metadata": {
        "id": "b3cb4dad",
        "outputId": "3bbdc200-bd31-41e8-eb6c-f13b956cffb6",
        "colab": {
          "base_uri": "https://localhost:8080/"
        }
      },
      "outputs": [
        {
          "output_type": "execute_result",
          "data": {
            "text/plain": [
              "tensor([0.9205, 0.5834])"
            ]
          },
          "metadata": {},
          "execution_count": 19
        }
      ],
      "source": [
        "rand_tensor[...,-1]"
      ]
    },
    {
      "cell_type": "code",
      "execution_count": 20,
      "id": "9c1e9707",
      "metadata": {
        "id": "9c1e9707",
        "outputId": "482d3f46-38d9-4a2e-8d06-1249e3913643",
        "colab": {
          "base_uri": "https://localhost:8080/"
        }
      },
      "outputs": [
        {
          "output_type": "execute_result",
          "data": {
            "text/plain": [
              "tensor(4.5717)"
            ]
          },
          "metadata": {},
          "execution_count": 20
        }
      ],
      "source": [
        "rand_tensor.sum()"
      ]
    },
    {
      "cell_type": "code",
      "execution_count": 21,
      "id": "13f6ca2c",
      "metadata": {
        "id": "13f6ca2c",
        "outputId": "72cef786-e60d-4fa3-9899-ad2a142d45ae",
        "colab": {
          "base_uri": "https://localhost:8080/"
        }
      },
      "outputs": [
        {
          "output_type": "execute_result",
          "data": {
            "text/plain": [
              "4.571743965148926"
            ]
          },
          "metadata": {},
          "execution_count": 21
        }
      ],
      "source": [
        "rand_tensor.sum().item()"
      ]
    },
    {
      "cell_type": "code",
      "execution_count": 22,
      "id": "0dc9ff6f",
      "metadata": {
        "id": "0dc9ff6f",
        "outputId": "faa589a8-7b86-4a63-de11-57bed2e765b4",
        "colab": {
          "base_uri": "https://localhost:8080/"
        }
      },
      "outputs": [
        {
          "output_type": "execute_result",
          "data": {
            "text/plain": [
              "tensor([[0.9796, 1.0000, 0.9205, 0.0000, 0.0000, 0.0000],\n",
              "        [0.0883, 1.0000, 0.5834, 0.0000, 0.0000, 0.0000]])"
            ]
          },
          "metadata": {},
          "execution_count": 22
        }
      ],
      "source": [
        "t1= torch.cat([rand_tensor, zeros_tensor],dim=1)\n",
        "t1"
      ]
    },
    {
      "cell_type": "code",
      "execution_count": 23,
      "id": "75cda023",
      "metadata": {
        "id": "75cda023",
        "outputId": "9742beae-133f-4efd-fd9f-f8a4687e96e0",
        "colab": {
          "base_uri": "https://localhost:8080/"
        }
      },
      "outputs": [
        {
          "output_type": "execute_result",
          "data": {
            "text/plain": [
              "tensor([[0.9796, 1.0000, 0.9205],\n",
              "        [0.0883, 1.0000, 0.5834],\n",
              "        [0.0000, 0.0000, 0.0000],\n",
              "        [0.0000, 0.0000, 0.0000]])"
            ]
          },
          "metadata": {},
          "execution_count": 23
        }
      ],
      "source": [
        "t2= torch.cat([rand_tensor, zeros_tensor],dim=0)\n",
        "t2"
      ]
    },
    {
      "cell_type": "code",
      "execution_count": 24,
      "id": "1ae20314",
      "metadata": {
        "id": "1ae20314",
        "outputId": "5d98fbf1-83f3-4f5e-8bab-70e29f1c8ad3",
        "colab": {
          "base_uri": "https://localhost:8080/"
        }
      },
      "outputs": [
        {
          "output_type": "execute_result",
          "data": {
            "text/plain": [
              "tensor([[0.9796, 1.0000, 0.9205],\n",
              "        [0.0883, 1.0000, 0.5834]])"
            ]
          },
          "metadata": {},
          "execution_count": 24
        }
      ],
      "source": [
        "rand_tensor.mul(ones_tensor)"
      ]
    },
    {
      "cell_type": "code",
      "execution_count": 25,
      "id": "ab397f6c",
      "metadata": {
        "id": "ab397f6c",
        "outputId": "bf06b598-506d-491d-db9a-babd24be93c8",
        "colab": {
          "base_uri": "https://localhost:8080/"
        }
      },
      "outputs": [
        {
          "output_type": "execute_result",
          "data": {
            "text/plain": [
              "tensor([[2.8069, 1.6235],\n",
              "        [1.6235, 1.3482]])"
            ]
          },
          "metadata": {},
          "execution_count": 25
        }
      ],
      "source": [
        "rand_tensor.matmul(rand_tensor.T)"
      ]
    },
    {
      "cell_type": "code",
      "execution_count": 26,
      "id": "c2678701",
      "metadata": {
        "id": "c2678701",
        "outputId": "6b0966e4-fefe-4a52-c525-30e1f7c9854d",
        "colab": {
          "base_uri": "https://localhost:8080/"
        }
      },
      "outputs": [
        {
          "output_type": "execute_result",
          "data": {
            "text/plain": [
              "tensor([[5.9796, 6.0000, 5.9205],\n",
              "        [5.0883, 6.0000, 5.5834]])"
            ]
          },
          "metadata": {},
          "execution_count": 26
        }
      ],
      "source": [
        "rand_tensor.add_(5)"
      ]
    },
    {
      "cell_type": "code",
      "execution_count": 27,
      "id": "a914df74",
      "metadata": {
        "id": "a914df74",
        "outputId": "caa0ab34-3716-476c-a190-3f85a7f1ed0d",
        "colab": {
          "base_uri": "https://localhost:8080/"
        }
      },
      "outputs": [
        {
          "output_type": "execute_result",
          "data": {
            "text/plain": [
              "array([1., 1., 1., 1., 1.])"
            ]
          },
          "metadata": {},
          "execution_count": 27
        }
      ],
      "source": [
        "n= np.ones(5)\n",
        "n"
      ]
    },
    {
      "cell_type": "code",
      "execution_count": 28,
      "id": "7239be0f",
      "metadata": {
        "id": "7239be0f",
        "outputId": "2b972c99-016d-440c-cc6f-fad4ad327645",
        "colab": {
          "base_uri": "https://localhost:8080/"
        }
      },
      "outputs": [
        {
          "output_type": "execute_result",
          "data": {
            "text/plain": [
              "tensor([1., 1., 1., 1., 1.], dtype=torch.float64)"
            ]
          },
          "metadata": {},
          "execution_count": 28
        }
      ],
      "source": [
        "t=torch.from_numpy(n)\n",
        "t"
      ]
    },
    {
      "cell_type": "code",
      "execution_count": 29,
      "id": "0fcf8463",
      "metadata": {
        "id": "0fcf8463",
        "outputId": "7b5da334-8bb6-4b6d-ae22-5b0f153acfbf",
        "colab": {
          "base_uri": "https://localhost:8080/"
        }
      },
      "outputs": [
        {
          "output_type": "execute_result",
          "data": {
            "text/plain": [
              "tensor([2., 2., 2., 2., 2.], dtype=torch.float64)"
            ]
          },
          "metadata": {},
          "execution_count": 29
        }
      ],
      "source": [
        "t.add_(1)"
      ]
    },
    {
      "cell_type": "code",
      "execution_count": 30,
      "id": "767d2790",
      "metadata": {
        "id": "767d2790",
        "outputId": "a62f9181-f755-4a48-9fdf-8688e0384e57",
        "colab": {
          "base_uri": "https://localhost:8080/"
        }
      },
      "outputs": [
        {
          "output_type": "stream",
          "name": "stdout",
          "text": [
            "tensor([9.2646e+28])\n"
          ]
        }
      ],
      "source": [
        "x = torch.empty(1)\n",
        "print(x)"
      ]
    },
    {
      "cell_type": "code",
      "execution_count": 31,
      "id": "57edc9ef",
      "metadata": {
        "id": "57edc9ef",
        "outputId": "05b9af0e-893c-4c42-a6fb-c03e7fead062",
        "colab": {
          "base_uri": "https://localhost:8080/"
        }
      },
      "outputs": [
        {
          "output_type": "execute_result",
          "data": {
            "text/plain": [
              "torch.Size([1])"
            ]
          },
          "metadata": {},
          "execution_count": 31
        }
      ],
      "source": [
        "x.size()"
      ]
    },
    {
      "cell_type": "code",
      "execution_count": 32,
      "id": "381bcc02",
      "metadata": {
        "id": "381bcc02",
        "outputId": "9bf96c12-6008-4bd7-aa7c-0717dd37cb56",
        "colab": {
          "base_uri": "https://localhost:8080/"
        }
      },
      "outputs": [
        {
          "output_type": "stream",
          "name": "stdout",
          "text": [
            "tensor([[3.1044e-25, 3.1350e-41, 3.1133e-25],\n",
            "        [3.1350e-41, 8.9683e-44, 0.0000e+00]])\n"
          ]
        }
      ],
      "source": [
        "x = torch.empty(2,3)\n",
        "print(x)"
      ]
    },
    {
      "cell_type": "code",
      "execution_count": 33,
      "id": "00ff73db",
      "metadata": {
        "id": "00ff73db",
        "outputId": "0f6b5dd9-6cc0-4d0e-d4b2-d60da05a649b",
        "colab": {
          "base_uri": "https://localhost:8080/"
        }
      },
      "outputs": [
        {
          "output_type": "execute_result",
          "data": {
            "text/plain": [
              "tensor([[[3.1109e-25, 3.1350e-41, 3.1048e-25],\n",
              "         [3.1350e-41, 3.0881e+29, 1.5766e-19]],\n",
              "\n",
              "        [[7.3313e+22, 7.2151e+22, 2.8404e+29],\n",
              "         [2.3089e-12, 1.9421e+31, 2.7491e+20]]])"
            ]
          },
          "metadata": {},
          "execution_count": 33
        }
      ],
      "source": [
        "torch.empty(2,2,3)"
      ]
    },
    {
      "cell_type": "code",
      "execution_count": 34,
      "id": "710a8b0a",
      "metadata": {
        "id": "710a8b0a",
        "outputId": "84e03a82-e529-44df-ce54-0a2d6ade0056",
        "colab": {
          "base_uri": "https://localhost:8080/"
        }
      },
      "outputs": [
        {
          "output_type": "execute_result",
          "data": {
            "text/plain": [
              "tensor([3.1044e-25, 3.1350e-41, 3.1133e-25, 3.1350e-41, 8.9683e-44, 0.0000e+00])"
            ]
          },
          "metadata": {},
          "execution_count": 34
        }
      ],
      "source": [
        "y=x.view(6)\n",
        "y"
      ]
    },
    {
      "cell_type": "code",
      "execution_count": 35,
      "id": "3f9f3100",
      "metadata": {
        "id": "3f9f3100",
        "outputId": "70f8c9ae-1620-4222-dc91-b7c5320df0cd",
        "colab": {
          "base_uri": "https://localhost:8080/"
        }
      },
      "outputs": [
        {
          "output_type": "execute_result",
          "data": {
            "text/plain": [
              "tensor([[3.1044e-25, 3.1350e-41, 3.1133e-25, 3.1350e-41, 8.9683e-44, 0.0000e+00]])"
            ]
          },
          "metadata": {},
          "execution_count": 35
        }
      ],
      "source": [
        "z=x.view(1,-1)\n",
        "z"
      ]
    },
    {
      "cell_type": "code",
      "execution_count": 36,
      "id": "ef1cf9b1",
      "metadata": {
        "id": "ef1cf9b1",
        "outputId": "e160ce97-12a7-4fb0-e92c-43fa3aedcf38",
        "colab": {
          "base_uri": "https://localhost:8080/"
        }
      },
      "outputs": [
        {
          "output_type": "execute_result",
          "data": {
            "text/plain": [
              "(tensor([[1., 1.],\n",
              "         [1., 1.]]),\n",
              " tensor([[1., 1.],\n",
              "         [1., 1.]]))"
            ]
          },
          "metadata": {},
          "execution_count": 36
        }
      ],
      "source": [
        "a= torch.ones(2,2)\n",
        "b= torch.ones(2,2)\n",
        "a,b"
      ]
    },
    {
      "cell_type": "code",
      "execution_count": 37,
      "id": "115f2bee",
      "metadata": {
        "id": "115f2bee",
        "outputId": "81694d63-6ef8-401a-ab97-700a011a25ba",
        "colab": {
          "base_uri": "https://localhost:8080/"
        }
      },
      "outputs": [
        {
          "output_type": "execute_result",
          "data": {
            "text/plain": [
              "tensor([[2., 2.],\n",
              "        [2., 2.]])"
            ]
          },
          "metadata": {},
          "execution_count": 37
        }
      ],
      "source": [
        "a+b"
      ]
    },
    {
      "cell_type": "code",
      "execution_count": 38,
      "id": "394d84ca",
      "metadata": {
        "id": "394d84ca",
        "outputId": "c158f970-89f1-4e5e-c010-47df91be701f",
        "colab": {
          "base_uri": "https://localhost:8080/"
        }
      },
      "outputs": [
        {
          "output_type": "execute_result",
          "data": {
            "text/plain": [
              "tensor([[0., 0.],\n",
              "        [0., 0.]])"
            ]
          },
          "metadata": {},
          "execution_count": 38
        }
      ],
      "source": [
        "a-b"
      ]
    },
    {
      "cell_type": "code",
      "execution_count": 39,
      "id": "7f0a6ce5",
      "metadata": {
        "id": "7f0a6ce5",
        "outputId": "5c09a712-bd59-4722-9481-c65969f24768",
        "colab": {
          "base_uri": "https://localhost:8080/"
        }
      },
      "outputs": [
        {
          "output_type": "execute_result",
          "data": {
            "text/plain": [
              "tensor([[1., 1.],\n",
              "        [1., 1.]])"
            ]
          },
          "metadata": {},
          "execution_count": 39
        }
      ],
      "source": [
        "a*b"
      ]
    },
    {
      "cell_type": "code",
      "execution_count": 40,
      "id": "f5607395",
      "metadata": {
        "id": "f5607395",
        "outputId": "28131462-3eb2-4cda-e3e0-73bb009b6fa8",
        "colab": {
          "base_uri": "https://localhost:8080/"
        }
      },
      "outputs": [
        {
          "output_type": "execute_result",
          "data": {
            "text/plain": [
              "tensor([[1., 1.],\n",
              "        [1., 1.]])"
            ]
          },
          "metadata": {},
          "execution_count": 40
        }
      ],
      "source": [
        "a/b"
      ]
    },
    {
      "cell_type": "code",
      "execution_count": 41,
      "id": "7b39c12b",
      "metadata": {
        "id": "7b39c12b",
        "outputId": "b49689c3-d90d-4560-9489-9fdf8d20e645",
        "colab": {
          "base_uri": "https://localhost:8080/"
        }
      },
      "outputs": [
        {
          "output_type": "execute_result",
          "data": {
            "text/plain": [
              "1.0"
            ]
          },
          "metadata": {},
          "execution_count": 41
        }
      ],
      "source": [
        "a[1,1].item()"
      ]
    },
    {
      "cell_type": "code",
      "execution_count": 42,
      "id": "e4a12002",
      "metadata": {
        "id": "e4a12002",
        "outputId": "704dde6e-b5ff-4492-fbc4-01768e19a71e",
        "colab": {
          "base_uri": "https://localhost:8080/"
        }
      },
      "outputs": [
        {
          "output_type": "execute_result",
          "data": {
            "text/plain": [
              "tensor([[50, 50, 50],\n",
              "        [50, 50, 50]])"
            ]
          },
          "metadata": {},
          "execution_count": 42
        }
      ],
      "source": [
        "torch.full((2,3),50)"
      ]
    }
  ],
  "metadata": {
    "kernelspec": {
      "display_name": "Python 3 (ipykernel)",
      "language": "python",
      "name": "python3"
    },
    "language_info": {
      "codemirror_mode": {
        "name": "ipython",
        "version": 3
      },
      "file_extension": ".py",
      "mimetype": "text/x-python",
      "name": "python",
      "nbconvert_exporter": "python",
      "pygments_lexer": "ipython3",
      "version": "3.9.13"
    },
    "colab": {
      "provenance": [],
      "include_colab_link": true
    }
  },
  "nbformat": 4,
  "nbformat_minor": 5
}